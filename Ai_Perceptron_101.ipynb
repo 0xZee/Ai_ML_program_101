{
  "nbformat": 4,
  "nbformat_minor": 0,
  "metadata": {
    "colab": {
      "provenance": [],
      "authorship_tag": "ABX9TyOeKdI3ZArkaPgNuaSuFHap",
      "include_colab_link": true
    },
    "kernelspec": {
      "name": "python3",
      "display_name": "Python 3"
    },
    "language_info": {
      "name": "python"
    }
  },
  "cells": [
    {
      "cell_type": "markdown",
      "metadata": {
        "id": "view-in-github",
        "colab_type": "text"
      },
      "source": [
        "<a href=\"https://colab.research.google.com/github/0xZee/Ai_ML_program_101/blob/main/Ai_Perceptron_101.ipynb\" target=\"_parent\"><img src=\"https://colab.research.google.com/assets/colab-badge.svg\" alt=\"Open In Colab\"/></a>"
      ]
    },
    {
      "cell_type": "markdown",
      "source": [
        "# AI 101 - Artificial Neuron Perceptron\n",
        "\n",
        "Program to train and predict Toxic and Non-Toxic Plants (based on leafs mesures [X] (2 Dim Array/Features)\n",
        "\n",
        "**Linear Neural Network** : input layer `(2 features [X])`, 0 hidden layers, 1 output layer `(True/False)`\n",
        "\n",
        "*   input is `(X,y) `\n",
        "*   init(X) : Initiate `W and b` parameters. -> `(X1.W1 + X2.W2) + b` to compare with y later\n",
        "*   MODEL and TRAIN : Do in loop : \n",
        "1.   `Model_NN(X, W, b)` : the linear function and (A) activation fct\n",
        "2.   `Cost(A, y)` : Cost/Loss Fct : compare A to output y\n",
        "3.   `Gradient(A,X,y)` : calculate the Descend Gradients : `dW , db`\n",
        "4.   `Update(W, b, dW, db)` : update the new `(W, b)` values with Gradients output\n",
        "\n",
        "\n",
        "\n",
        "\n",
        "\n"
      ],
      "metadata": {
        "id": "rHo5oFnJfaG_"
      }
    },
    {
      "cell_type": "code",
      "execution_count": 232,
      "metadata": {
        "id": "0TaUgcZLfYXA"
      },
      "outputs": [],
      "source": [
        "# Math, DataSets and Plot Librairies :\n",
        "import numpy as np\n",
        "import pandas as pd\n",
        "import matplotlib.pyplot as plt\n",
        "\n",
        "# make blobs dataset Librairies :\n",
        "from sklearn.datasets import make_blobs\n"
      ]
    },
    {
      "cell_type": "code",
      "source": [
        "# Generate Dots Array and plot\n",
        "X, y = make_blobs(n_samples=100, n_features=2, centers=2, random_state=0)\n",
        "\n",
        "print('X Array Dimension : ', X.shape)\n",
        "print('y Array Dimension : ', y.shape)\n"
      ],
      "metadata": {
        "colab": {
          "base_uri": "https://localhost:8080/"
        },
        "id": "ZKyrDXJmi8_J",
        "outputId": "8a8c65c7-615f-4c58-8943-2e2a038b5ce0"
      },
      "execution_count": 233,
      "outputs": [
        {
          "output_type": "stream",
          "name": "stdout",
          "text": [
            "X Array Dimension :  (100, 2)\n",
            "y Array Dimension :  (100,)\n"
          ]
        }
      ]
    },
    {
      "cell_type": "code",
      "source": [
        "# Plot Dots\n",
        "plt.scatter(X[:,0], X[:,1], c=y , cmap='summer')\n",
        "plt.show()"
      ],
      "metadata": {
        "colab": {
          "base_uri": "https://localhost:8080/",
          "height": 265
        },
        "id": "0ewgrAOtm5dX",
        "outputId": "58028ead-885b-48d8-c91c-3db8630e5ed6"
      },
      "execution_count": 234,
      "outputs": [
        {
          "output_type": "display_data",
          "data": {
            "text/plain": [
              "<Figure size 432x288 with 1 Axes>"
            ],
            "image/png": "[encoded data removed]"
          },
          "metadata": {
            "needs_background": "light"
          }
        }
      ]
    },
    {
      "cell_type": "code",
      "source": [
        "# function initiation of neuron\n",
        "# y is (X1.W1 + X2.W2) + b\n",
        "# initiate a random W matrix (2 var/param) and b (the pad)\n",
        "\n",
        "\n",
        "def init_neuron(X):\n",
        "  W = np.random.randn(X.shape[1], 1)\n",
        "  b = np.random.randn(1)\n",
        "  return (W, b)"
      ],
      "metadata": {
        "id": "oHfksiPVm8RS"
      },
      "execution_count": 235,
      "outputs": []
    },
    {
      "cell_type": "code",
      "source": [
        "W, b = init_neuron(X)\n",
        "print('W.shape = ',W.shape)\n",
        "print('W = ',W)\n",
        "print('b.shape = ',b.shape)\n",
        "print('b = ',b)\n",
        "\n"
      ],
      "metadata": {
        "colab": {
          "base_uri": "https://localhost:8080/"
        },
        "id": "CugQlK0nsMHl",
        "outputId": "4739844d-5b01-449d-b0d8-8ad9960791b8"
      },
      "execution_count": 236,
      "outputs": [
        {
          "output_type": "stream",
          "name": "stdout",
          "text": [
            "W.shape =  (2, 1)\n",
            "W =  [[0.18243517]\n",
            " [0.88003874]]\n",
            "b.shape =  (1,)\n",
            "b =  [0.9531368]\n"
          ]
        }
      ]
    },
    {
      "cell_type": "code",
      "source": [
        "# def the model architecture : \n",
        "# the agregation (X1.W1 + X2.W2) + b -> Z\n",
        "# the activation : pass it into sigmoide funtion \n",
        "\n",
        "def model(X, W, b):\n",
        "  Z = X.dot(W) + b\n",
        "  A = 1 / (1 + np.exp(-Z))\n",
        "  return A"
      ],
      "metadata": {
        "id": "R_LPZyXSueTS"
      },
      "execution_count": 237,
      "outputs": []
    },
    {
      "cell_type": "code",
      "source": [
        "# test the model : \n",
        "\n",
        "A = model(X, W, b)\n",
        "print('A.shape = ', A.shape)\n",
        "print('A = ', A.dtype)\n"
      ],
      "metadata": {
        "colab": {
          "base_uri": "https://localhost:8080/"
        },
        "id": "Tsr7YzR0viIH",
        "outputId": "0e31b0ad-8d05-4f25-f0c9-5bc09a0348d6"
      },
      "execution_count": 238,
      "outputs": [
        {
          "output_type": "stream",
          "name": "stdout",
          "text": [
            "A.shape =  (100, 1)\n",
            "A =  float64\n"
          ]
        }
      ]
    },
    {
      "cell_type": "code",
      "source": [
        "# def the Log Loss function \n",
        "# compare A Activation and \n",
        "# !!!!!!!!!!!!!!!!!!!!!!!!!!!!!!!!!!!\n",
        "\n",
        "def log_loss(A, y):\n",
        "    #Ll = - 1 / len(y) * np.sum(y * np.log(A) - (1 - y) * np.log(1 - A))\n",
        "    #Ll = 1 / len(y) * np.sum((-y * np.log(A)) - ((1 - y) * np.log(1 - A)))\n",
        "    Ll = 1 / (len(y) * np.sum((-y * np.log(A)) - ((1 - y) * np.log(1 - A))))\n",
        "    #Ll = - 1 / len(y) * np.sum((y * np.log(A)) + ((1 - y) * np.log(1 - A)))\n",
        "    return Ll "
      ],
      "metadata": {
        "id": "SxNySo9-wdan"
      },
      "execution_count": 239,
      "outputs": []
    },
    {
      "cell_type": "code",
      "source": [
        "# test Log Loss\n",
        "\n",
        "Ll = log_loss(A, y)\n",
        "print ('Ll is : ', Ll)"
      ],
      "metadata": {
        "colab": {
          "base_uri": "https://localhost:8080/"
        },
        "id": "iZk11JcfzJOA",
        "outputId": "f14d4c58-7bcd-4529-d078-d6146a958a61"
      },
      "execution_count": 240,
      "outputs": [
        {
          "output_type": "stream",
          "name": "stdout",
          "text": [
            "Ll is :  5.309096721620695e-07\n"
          ]
        }
      ]
    },
    {
      "cell_type": "code",
      "source": [
        "# def the Descent Gradients function : Backward Propagation\n",
        "# to updte W, b values (derivé dW et db)\n",
        "\n",
        "def gradients(A, X, y):\n",
        "  dW = 1 / len(y) * np.dot(X.T, A - y)\n",
        "  db = 1 / len(y) * np.sum(A - y)\n",
        "  return (dW, db)"
      ],
      "metadata": {
        "id": "exWpF3_ZzvG_"
      },
      "execution_count": 241,
      "outputs": []
    },
    {
      "cell_type": "code",
      "source": [
        "dW, db = gradients(A, X, y)\n",
        "print ('dW shape : ', dW.shape)\n",
        "print ('db shape : ', db.shape)\n",
        "print ('db is : ', db)\n",
        "print ('dW, db : ', (dW, db))\n"
      ],
      "metadata": {
        "colab": {
          "base_uri": "https://localhost:8080/"
        },
        "id": "l6Z98BtR0-Lt",
        "outputId": "2ae2a4c6-7112-4036-e07b-f77338711282"
      },
      "execution_count": 242,
      "outputs": [
        {
          "output_type": "stream",
          "name": "stdout",
          "text": [
            "dW shape :  (2, 100)\n",
            "db shape :  ()\n",
            "db is :  43.444316769867974\n",
            "dW, db :  (array([[-0.11715571, -0.11715571,  1.37753228,  1.37753228, -0.11715571,\n",
            "         1.37753228,  1.37753228, -0.11715571,  1.37753228, -0.11715571,\n",
            "         1.37753228, -0.11715571,  1.37753228,  1.37753228, -0.11715571,\n",
            "        -0.11715571, -0.11715571,  1.37753228, -0.11715571, -0.11715571,\n",
            "         1.37753228,  1.37753228, -0.11715571,  1.37753228, -0.11715571,\n",
            "         1.37753228, -0.11715571,  1.37753228,  1.37753228, -0.11715571,\n",
            "        -0.11715571,  1.37753228, -0.11715571, -0.11715571, -0.11715571,\n",
            "         1.37753228, -0.11715571, -0.11715571,  1.37753228, -0.11715571,\n",
            "         1.37753228,  1.37753228,  1.37753228,  1.37753228, -0.11715571,\n",
            "        -0.11715571, -0.11715571, -0.11715571,  1.37753228,  1.37753228,\n",
            "        -0.11715571, -0.11715571,  1.37753228,  1.37753228,  1.37753228,\n",
            "         1.37753228,  1.37753228, -0.11715571, -0.11715571, -0.11715571,\n",
            "        -0.11715571,  1.37753228,  1.37753228, -0.11715571,  1.37753228,\n",
            "        -0.11715571,  1.37753228,  1.37753228, -0.11715571,  1.37753228,\n",
            "         1.37753228, -0.11715571, -0.11715571,  1.37753228,  1.37753228,\n",
            "         1.37753228, -0.11715571, -0.11715571,  1.37753228,  1.37753228,\n",
            "        -0.11715571,  1.37753228,  1.37753228,  1.37753228,  1.37753228,\n",
            "         1.37753228, -0.11715571,  1.37753228, -0.11715571, -0.11715571,\n",
            "        -0.11715571, -0.11715571, -0.11715571, -0.11715571,  1.37753228,\n",
            "         1.37753228, -0.11715571, -0.11715571,  1.37753228, -0.11715571],\n",
            "       [-0.0376512 , -0.0376512 ,  2.6836013 ,  2.6836013 , -0.0376512 ,\n",
            "         2.6836013 ,  2.6836013 , -0.0376512 ,  2.6836013 , -0.0376512 ,\n",
            "         2.6836013 , -0.0376512 ,  2.6836013 ,  2.6836013 , -0.0376512 ,\n",
            "        -0.0376512 , -0.0376512 ,  2.6836013 , -0.0376512 , -0.0376512 ,\n",
            "         2.6836013 ,  2.6836013 , -0.0376512 ,  2.6836013 , -0.0376512 ,\n",
            "         2.6836013 , -0.0376512 ,  2.6836013 ,  2.6836013 , -0.0376512 ,\n",
            "        -0.0376512 ,  2.6836013 , -0.0376512 , -0.0376512 , -0.0376512 ,\n",
            "         2.6836013 , -0.0376512 , -0.0376512 ,  2.6836013 , -0.0376512 ,\n",
            "         2.6836013 ,  2.6836013 ,  2.6836013 ,  2.6836013 , -0.0376512 ,\n",
            "        -0.0376512 , -0.0376512 , -0.0376512 ,  2.6836013 ,  2.6836013 ,\n",
            "        -0.0376512 , -0.0376512 ,  2.6836013 ,  2.6836013 ,  2.6836013 ,\n",
            "         2.6836013 ,  2.6836013 , -0.0376512 , -0.0376512 , -0.0376512 ,\n",
            "        -0.0376512 ,  2.6836013 ,  2.6836013 , -0.0376512 ,  2.6836013 ,\n",
            "        -0.0376512 ,  2.6836013 ,  2.6836013 , -0.0376512 ,  2.6836013 ,\n",
            "         2.6836013 , -0.0376512 , -0.0376512 ,  2.6836013 ,  2.6836013 ,\n",
            "         2.6836013 , -0.0376512 , -0.0376512 ,  2.6836013 ,  2.6836013 ,\n",
            "        -0.0376512 ,  2.6836013 ,  2.6836013 ,  2.6836013 ,  2.6836013 ,\n",
            "         2.6836013 , -0.0376512 ,  2.6836013 , -0.0376512 , -0.0376512 ,\n",
            "        -0.0376512 , -0.0376512 , -0.0376512 , -0.0376512 ,  2.6836013 ,\n",
            "         2.6836013 , -0.0376512 , -0.0376512 ,  2.6836013 , -0.0376512 ]]), 43.444316769867974)\n"
          ]
        }
      ]
    },
    {
      "cell_type": "code",
      "source": [
        "# update W, b\n",
        "\n",
        "def update(dW, db, W, b, learning_rate):\n",
        "  W = W - learning_rate * dW\n",
        "  b = b - learning_rate * db\n",
        "  return (W, b)"
      ],
      "metadata": {
        "id": "hiEdB6bl9SAa"
      },
      "execution_count": 243,
      "outputs": []
    },
    {
      "cell_type": "code",
      "source": [
        "# test update \n",
        "\n",
        "W, b = update(dW, db, W, b, 0.1)\n",
        "\n",
        "print('W.shape = ',W.shape)\n",
        "print('W = ',W)\n",
        "print('b.shape = ',b.shape)\n",
        "print('b = ',b)"
      ],
      "metadata": {
        "colab": {
          "base_uri": "https://localhost:8080/"
        },
        "id": "3IMcmDee987A",
        "outputId": "33e16e47-328f-4726-969b-776c39f9d780"
      },
      "execution_count": 244,
      "outputs": [
        {
          "output_type": "stream",
          "name": "stdout",
          "text": [
            "W.shape =  (2, 100)\n",
            "W =  [[0.19415074 0.19415074 0.04468194 0.04468194 0.19415074 0.04468194\n",
            "  0.04468194 0.19415074 0.04468194 0.19415074 0.04468194 0.19415074\n",
            "  0.04468194 0.04468194 0.19415074 0.19415074 0.19415074 0.04468194\n",
            "  0.19415074 0.19415074 0.04468194 0.04468194 0.19415074 0.04468194\n",
            "  0.19415074 0.04468194 0.19415074 0.04468194 0.04468194 0.19415074\n",
            "  0.19415074 0.04468194 0.19415074 0.19415074 0.19415074 0.04468194\n",
            "  0.19415074 0.19415074 0.04468194 0.19415074 0.04468194 0.04468194\n",
            "  0.04468194 0.04468194 0.19415074 0.19415074 0.19415074 0.19415074\n",
            "  0.04468194 0.04468194 0.19415074 0.19415074 0.04468194 0.04468194\n",
            "  0.04468194 0.04468194 0.04468194 0.19415074 0.19415074 0.19415074\n",
            "  0.19415074 0.04468194 0.04468194 0.19415074 0.04468194 0.19415074\n",
            "  0.04468194 0.04468194 0.19415074 0.04468194 0.04468194 0.19415074\n",
            "  0.19415074 0.04468194 0.04468194 0.04468194 0.19415074 0.19415074\n",
            "  0.04468194 0.04468194 0.19415074 0.04468194 0.04468194 0.04468194\n",
            "  0.04468194 0.04468194 0.19415074 0.04468194 0.19415074 0.19415074\n",
            "  0.19415074 0.19415074 0.19415074 0.19415074 0.04468194 0.04468194\n",
            "  0.19415074 0.19415074 0.04468194 0.19415074]\n",
            " [0.88380386 0.88380386 0.61167861 0.61167861 0.88380386 0.61167861\n",
            "  0.61167861 0.88380386 0.61167861 0.88380386 0.61167861 0.88380386\n",
            "  0.61167861 0.61167861 0.88380386 0.88380386 0.88380386 0.61167861\n",
            "  0.88380386 0.88380386 0.61167861 0.61167861 0.88380386 0.61167861\n",
            "  0.88380386 0.61167861 0.88380386 0.61167861 0.61167861 0.88380386\n",
            "  0.88380386 0.61167861 0.88380386 0.88380386 0.88380386 0.61167861\n",
            "  0.88380386 0.88380386 0.61167861 0.88380386 0.61167861 0.61167861\n",
            "  0.61167861 0.61167861 0.88380386 0.88380386 0.88380386 0.88380386\n",
            "  0.61167861 0.61167861 0.88380386 0.88380386 0.61167861 0.61167861\n",
            "  0.61167861 0.61167861 0.61167861 0.88380386 0.88380386 0.88380386\n",
            "  0.88380386 0.61167861 0.61167861 0.88380386 0.61167861 0.88380386\n",
            "  0.61167861 0.61167861 0.88380386 0.61167861 0.61167861 0.88380386\n",
            "  0.88380386 0.61167861 0.61167861 0.61167861 0.88380386 0.88380386\n",
            "  0.61167861 0.61167861 0.88380386 0.61167861 0.61167861 0.61167861\n",
            "  0.61167861 0.61167861 0.88380386 0.61167861 0.88380386 0.88380386\n",
            "  0.88380386 0.88380386 0.88380386 0.88380386 0.61167861 0.61167861\n",
            "  0.88380386 0.88380386 0.61167861 0.88380386]]\n",
            "b.shape =  (1,)\n",
            "b =  [-3.39129487]\n"
          ]
        }
      ]
    },
    {
      "cell_type": "code",
      "source": [
        "# predict a result, True/False\n",
        "\n",
        "def predict(X, W, b):\n",
        "  A = model(X, W, b)\n",
        "  return A > 0.5"
      ],
      "metadata": {
        "id": "lwifmV6cHLVB"
      },
      "execution_count": 245,
      "outputs": []
    },
    {
      "cell_type": "code",
      "source": [
        "from sklearn.metrics import accuracy_score"
      ],
      "metadata": {
        "id": "wp6Ml3f0IUzk"
      },
      "execution_count": 246,
      "outputs": []
    },
    {
      "cell_type": "code",
      "source": [
        "# def the trainnig model \n",
        "# loop into : Model() -> log_loss() -> gradients() -> update()\n",
        "# learning rate is set to 0.1 (padding) and iterate for 100 n_cycles\n",
        "\n",
        "def train_neuron(X, y, learning_rate = 0.1, n_cycles = 100):\n",
        "  # init (W, b)\n",
        "  W, b = init_neuron(X)\n",
        "  # train model \n",
        "  Loss = []\n",
        "  for i in range(n_cycles):\n",
        "    A = model(X, W, b)\n",
        "    Loss.append(log_loss(A, y))\n",
        "    dW, db = gradients(A, X, y)\n",
        "    W, b = update(dW, db, W, b, learning_rate)\n",
        "\n",
        "  # y_pred, based on predict(), boolean\n",
        "  y_pred = predict(X, W, b)\n",
        "  # compare y and y_pred, to get the performance of the model\n",
        "  #print('Acc. Score : ', accuracy_score(y, y_pred))\n",
        "  print('-- the predict is: ', y_pred)\n",
        "\n",
        "  plt.plot(Loss)\n",
        "  print('-- the Loss is: ', Loss)\n",
        "\n",
        "  plt.show()\n",
        "\n",
        "  return (W, b)\n",
        "\n"
      ],
      "metadata": {
        "id": "QaJAu1vvChBm"
      },
      "execution_count": 247,
      "outputs": []
    },
    {
      "cell_type": "code",
      "source": [
        "# train model and plot loss curb\n",
        "\n",
        "train_neuron(X, y)"
      ],
      "metadata": {
        "colab": {
          "base_uri": "https://localhost:8080/",
          "height": 1000
        },
        "id": "oPAG8cCWE9Kz",
        "outputId": "baf000e4-8cf9-4d64-e67b-c0ded84162a2"
      },
      "execution_count": 248,
      "outputs": [
        {
          "output_type": "stream",
          "name": "stdout",
          "text": [
            "-- the predict is:  [[ True  True False ...  True False  True]\n",
            " [ True  True False ...  True False  True]\n",
            " [ True  True False ...  True False  True]\n",
            " ...\n",
            " [ True  True False ...  True False  True]\n",
            " [ True  True False ...  True False  True]\n",
            " [ True  True False ...  True False  True]]\n",
            "-- the Loss is:  [5.857762347359437e-07, 1.1646495718259939e-06, 1.5660549604770678e-06, 2.0329949574629265e-06, 2.6223584561098133e-06, 3.1543516087033724e-06, 3.620618616884059e-06, 4.023074940118591e-06, 4.401907641750245e-06, 4.770093047828662e-06, 5.130547042666536e-06, 5.483777680596253e-06, 5.830027976312681e-06, 6.169541548865175e-06, 6.502572216491719e-06, 6.829380124796202e-06, 7.150227238241849e-06, 7.465373502751413e-06, 7.775073781653727e-06, 8.07957555391037e-06, 8.379117289912346e-06, 8.673927392935136e-06, 8.964223592452112e-06, 9.250212686069378e-06, 9.532090542253045e-06, 9.810042292156193e-06, 1.0084242653716199e-05, 1.0354856343984726e-05, 1.0622038546211297e-05, 1.0885935406675955e-05, 1.1146684542931752e-05, 1.1404415550278991e-05, 1.1659250497238606e-05, 1.1911304403773911e-05, 1.2160685698238838e-05, 1.2407496650678193e-05, 1.265183378130705e-05, 1.2893788243859751e-05, 1.313344618410682e-05, 1.337088907425466e-05, 1.3606194024217286e-05, 1.3839434070918704e-05, 1.4070678446877817e-05, 1.4299992829365373e-05, 1.4527439571421526e-05, 1.4753077915994446e-05, 1.4976964194413983e-05, 1.5199152010356848e-05, 1.5419692410395e-05, 1.5638634042151364e-05, 1.585602330101834e-05, 1.607190446632711e-05, 1.628631982779018e-05, 1.6499309802977206e-05, 1.6710913046525008e-05, 1.692116655172705e-05, 1.7130105745095948e-05, 1.7337764574444508e-05, 1.7544175590986064e-05, 1.7749370025914097e-05, 1.7953377861883095e-05, 1.8156227899777948e-05, 1.835794782112744e-05, 1.8558564246487984e-05, 1.875810279009722e-05, 1.895658811107251e-05, 1.915404396140715e-05, 1.9350493230996427e-05, 1.9545957989907234e-05, 1.974045952808763e-05, 1.993401839269734e-05, 2.0126654423225486e-05, 2.0318386784549394e-05, 2.0509233998075717e-05, 2.0699213971094555e-05, 2.0888344024467165e-05, 2.107664091875849e-05, 2.1264120878917605e-05, 2.1450799617601136e-05, 2.1636692357227933e-05, 2.1821813850846453e-05, 2.2006178401890712e-05, 2.218979988289474e-05, 2.2372691753230806e-05, 2.255486707593183e-05, 2.2736338533654082e-05, 2.2917118443832586e-05, 2.3097218773077537e-05, 2.3276651150857364e-05, 2.3455426882510167e-05, 2.3633556961623223e-05, 2.3811052081816862e-05, 2.3987922647967192e-05, 2.4164178786899434e-05, 2.4339830357581785e-05, 2.4514886960847768e-05, 2.4689357948673096e-05, 2.4863252433031505e-05, 2.5036579294352517e-05, 2.520934718960254e-05]\n"
          ]
        },
        {
          "output_type": "display_data",
          "data": {
            "text/plain": [
              "<Figure size 432x288 with 1 Axes>"
            ],
            "image/png": "[encoded data removed]"
          },
          "metadata": {
            "needs_background": "light"
          }
        },
        {
          "output_type": "execute_result",
          "data": {
            "text/plain": [
              "(array([[ 2.14975811,  2.14975811, -0.41061546, -0.41061546,  2.14975811,\n",
              "         -0.41061546, -0.41061546,  2.14975811, -0.41061546,  2.14975811,\n",
              "         -0.41061546,  2.14975811, -0.41061546, -0.41061546,  2.14975811,\n",
              "          2.14975811,  2.14975811, -0.41061546,  2.14975811,  2.14975811,\n",
              "         -0.41061546, -0.41061546,  2.14975811, -0.41061546,  2.14975811,\n",
              "         -0.41061546,  2.14975811, -0.41061546, -0.41061546,  2.14975811,\n",
              "          2.14975811, -0.41061546,  2.14975811,  2.14975811,  2.14975811,\n",
              "         -0.41061546,  2.14975811,  2.14975811, -0.41061546,  2.14975811,\n",
              "         -0.41061546, -0.41061546, -0.41061546, -0.41061546,  2.14975811,\n",
              "          2.14975811,  2.14975811,  2.14975811, -0.41061546, -0.41061546,\n",
              "          2.14975811,  2.14975811, -0.41061546, -0.41061546, -0.41061546,\n",
              "         -0.41061546, -0.41061546,  2.14975811,  2.14975811,  2.14975811,\n",
              "          2.14975811, -0.41061546, -0.41061546,  2.14975811, -0.41061546,\n",
              "          2.14975811, -0.41061546, -0.41061546,  2.14975811, -0.41061546,\n",
              "         -0.41061546,  2.14975811,  2.14975811, -0.41061546, -0.41061546,\n",
              "         -0.41061546,  2.14975811,  2.14975811, -0.41061546, -0.41061546,\n",
              "          2.14975811, -0.41061546, -0.41061546, -0.41061546, -0.41061546,\n",
              "         -0.41061546,  2.14975811, -0.41061546,  2.14975811,  2.14975811,\n",
              "          2.14975811,  2.14975811,  2.14975811,  2.14975811, -0.41061546,\n",
              "         -0.41061546,  2.14975811,  2.14975811, -0.41061546,  2.14975811],\n",
              "        [ 1.42577603,  1.42577603, -0.8495178 , -0.8495178 ,  1.42577603,\n",
              "         -0.8495178 , -0.8495178 ,  1.42577603, -0.8495178 ,  1.42577603,\n",
              "         -0.8495178 ,  1.42577603, -0.8495178 , -0.8495178 ,  1.42577603,\n",
              "          1.42577603,  1.42577603, -0.8495178 ,  1.42577603,  1.42577603,\n",
              "         -0.8495178 , -0.8495178 ,  1.42577603, -0.8495178 ,  1.42577603,\n",
              "         -0.8495178 ,  1.42577603, -0.8495178 , -0.8495178 ,  1.42577603,\n",
              "          1.42577603, -0.8495178 ,  1.42577603,  1.42577603,  1.42577603,\n",
              "         -0.8495178 ,  1.42577603,  1.42577603, -0.8495178 ,  1.42577603,\n",
              "         -0.8495178 , -0.8495178 , -0.8495178 , -0.8495178 ,  1.42577603,\n",
              "          1.42577603,  1.42577603,  1.42577603, -0.8495178 , -0.8495178 ,\n",
              "          1.42577603,  1.42577603, -0.8495178 , -0.8495178 , -0.8495178 ,\n",
              "         -0.8495178 , -0.8495178 ,  1.42577603,  1.42577603,  1.42577603,\n",
              "          1.42577603, -0.8495178 , -0.8495178 ,  1.42577603, -0.8495178 ,\n",
              "          1.42577603, -0.8495178 , -0.8495178 ,  1.42577603, -0.8495178 ,\n",
              "         -0.8495178 ,  1.42577603,  1.42577603, -0.8495178 , -0.8495178 ,\n",
              "         -0.8495178 ,  1.42577603,  1.42577603, -0.8495178 , -0.8495178 ,\n",
              "          1.42577603, -0.8495178 , -0.8495178 , -0.8495178 , -0.8495178 ,\n",
              "         -0.8495178 ,  1.42577603, -0.8495178 ,  1.42577603,  1.42577603,\n",
              "          1.42577603,  1.42577603,  1.42577603,  1.42577603, -0.8495178 ,\n",
              "         -0.8495178 ,  1.42577603,  1.42577603, -0.8495178 ,  1.42577603]]),\n",
              " array([-1.32143875]))"
            ]
          },
          "metadata": {},
          "execution_count": 248
        }
      ]
    },
    {
      "cell_type": "code",
      "source": [
        "# test the model\n",
        "# Predict if nen_plant is TOXIC or not\n",
        "\n",
        "new_plant = np.array([2, 5])\n",
        "pred = predict(new_plant, W, b)\n",
        "\n",
        "plt.scatter(X[:,0], X[:,1], c=y , cmap='summer')\n",
        "plt.scatter(new_plant[0], new_plant[1], c='r')\n",
        "print('new_plant :' , new_plant)\n",
        "print('Prediction : TOXIC = ' , pred)\n",
        "\n",
        "plt.show()\n"
      ],
      "metadata": {
        "colab": {
          "base_uri": "https://localhost:8080/",
          "height": 444
        },
        "id": "KqviULNUMXO-",
        "outputId": "f98d9592-7957-447c-b808-4d3d900e52ad"
      },
      "execution_count": 259,
      "outputs": [
        {
          "output_type": "stream",
          "name": "stdout",
          "text": [
            "new_plant : [2 5]\n",
            "Prediction : TOXIC =  [ True  True False False  True False False  True False  True False  True\n",
            " False False  True  True  True False  True  True False False  True False\n",
            "  True False  True False False  True  True False  True  True  True False\n",
            "  True  True False  True False False False False  True  True  True  True\n",
            " False False  True  True False False False False False  True  True  True\n",
            "  True False False  True False  True False False  True False False  True\n",
            "  True False False False  True  True False False  True False False False\n",
            " False False  True False  True  True  True  True  True  True False False\n",
            "  True  True False  True]\n"
          ]
        },
        {
          "output_type": "display_data",
          "data": {
            "text/plain": [
              "<Figure size 432x288 with 1 Axes>"
            ],
            "image/png": "[encoded data removed]"
          },
          "metadata": {
            "needs_background": "light"
          }
        }
      ]
    }
  ]
}